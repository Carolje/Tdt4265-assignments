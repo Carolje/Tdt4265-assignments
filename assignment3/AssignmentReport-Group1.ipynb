{
 "cells": [
  {
   "cell_type": "markdown",
   "metadata": {},
   "source": [
    "# Assignment 1 Report"
   ]
  },
  {
   "cell_type": "markdown",
   "metadata": {},
   "source": [
    "This is an outline for your report to ease the amount of work required to create your report. Jupyter notebook supports markdown, and I recommend you to check out this [cheat sheet](https://github.com/adam-p/markdown-here/wiki/Markdown-Cheatsheet). If you are not familiar with markdown.\n",
    "\n",
    "Before delivery, **remember to convert this file to PDF**. You can do it in two ways:\n",
    "1. Print the webpage (ctrl+P or cmd+P)\n",
    "2. Export with latex. This is somewhat more difficult, but you'll get somehwat of a \"prettier\" PDF. Go to File -> Download as -> PDF via LaTeX. You might have to install nbconvert and pandoc through conda; `conda install nbconvert pandoc`."
   ]
  },
  {
   "cell_type": "markdown",
   "metadata": {},
   "source": [
    "# Task 1"
   ]
  },
  {
   "cell_type": "markdown",
   "metadata": {},
   "source": [
    "## task 1a)\n",
    "\n",
    "Fill in image of hand-written notes which are easy to read, or latex equations here"
   ]
  },
  {
   "attachments": {},
   "cell_type": "markdown",
   "metadata": {},
   "source": [
    "## task 1b)\n",
    "\n",
    "Max pooling\n",
    "\n",
    "## task 1c)\n",
    "\n",
    "We have the following formulas for width an height of the output of a convoultion step\n",
    "$$\n",
    "W_out=\\frac{W_in-F_W+2P_W}{S_W}+1\n",
    "$$\n",
    "\n",
    "$$\n",
    "H_out=\\frac{H_in-F_H+2P_H}{S_H}+1\n",
    "$$\n",
    "where W is the width, H is the height $F_W,F_H,P_W,P_H,S_W$ and $S_H$ are the width and height of the kernel,padding and step respectively. \n",
    "So with step of 1 and kernel size of $7\\times 7$ we can calculate the amount of padding needed to obtain and output with the same size of the input.\n",
    "Since the dimensions of the width and height are the same it is enough to calculate in one direction. By using the formulas above we get\n",
    "$$\n",
    "H=\\frac{H-7+2P}{1}+1= H-6+2P\n",
    "$$\n",
    "$$\n",
    "H-H=-6+2P=0\n",
    "$$\n",
    "$$\n",
    "6=2P \\Rightarrow P=3\n",
    "$$\n",
    "## task 1d)\n",
    "\n",
    "We have RGB images of size $512 \\times 512$ as input we feed through a network with two convolutional layers. We know that the output from the first layer is $508 \\times 508$, 0 padding and a step of 1. Then we can calculate the kernel size as \n",
    "$$\n",
    "508=\\frac{512-F+0}{1}+1 \\Rightarrow F=512-508+1=5\n",
    "$$\n",
    "So the kernel size of the first concolutional layer $5\\times 5$.\n",
    "## task 1e)\n",
    "\n",
    "After the first layer we do subsampling using filters of sixe $2 \\times 2$ and a stride of 2. This gives that the spacial dimensions after the first pooling layers are\n",
    "$$\n",
    "W_3=\\frac{508-2+0}{2}+1 \\Rightarrow W_3=254\n",
    "$$\n",
    "\n",
    "## task 1f)\n",
    "We know have that the kernel in the second layer is $3 \\times 3$, we have no padding and a stride of 1. This gives that the size of the feature maps in the second layer is: \n",
    "$$\n",
    "W_4=\\frac{254-3+0}{1}+1 \\Rightarrow W_4=252\n",
    "$$\n",
    "\n",
    "## task 1g)\n",
    "For the network described in table 1 in the project description we do the following calculations to find the number of paramters.\n",
    "\n",
    "| Layer             | Calculation                                     | Number of weights/biases |\n",
    "|-------------------|-------------------------------------------------|--------------------------|\n",
    "| Convolution 1     | $5 \\times 5 \\times 5 \\times 32$                   | 2400                     |\n",
    "| Convolution 2     | $5 \\times 5 \\times 5 \\times 64$                   | 4800                     |\n",
    "| Convolution 3     | $5 \\times 5 \\times 5 \\times 128$                  | 9600                     |\n",
    "| Fully connected 1 | $4 \\times 4 \\times 128 \\times 64 \\times 64$       | 8388608                  |\n",
    "| Fully connected 2 | $64 \\times 10$                                    | 640                      |\n",
    "| Biases            | $32 + 64 + 128 + 4 \\times 4 \\times 128 \\times 64$ | 131072                   |\n",
    "| Total             | Sum of weights and biases                       | 85373344                 |"
   ]
  },
  {
   "cell_type": "markdown",
   "metadata": {},
   "source": [
    "# Task 2\n",
    "\n",
    "### Task 2a)\n",
    "\n",
    "### Task 2b)"
   ]
  },
  {
   "cell_type": "markdown",
   "metadata": {},
   "source": [
    "# Task 3"
   ]
  },
  {
   "cell_type": "markdown",
   "metadata": {},
   "source": [
    "### Task 3a)\n",
    "### Task 3b)\n",
    "### Task 3c)\n",
    "### Task 3d)\n",
    "### Task 3e)\n",
    "### Task 3f)"
   ]
  },
  {
   "cell_type": "code",
   "execution_count": 6,
   "metadata": {},
   "outputs": [
    {
     "data": {
      "text/plain": [
       "array([[ -7,   4,  -6,   2,  13],\n",
       "       [-20,  10,   2,  -2,  18],\n",
       "       [-23,   8,  14,  -6,   9]])"
      ]
     },
     "execution_count": 6,
     "metadata": {},
     "output_type": "execute_result"
    }
   ],
   "source": [
    "import scipy.ndimage\n",
    "x=[[2,1,2,3,1],[4,5,0,7,0],[3,9,1,1,4]]\n",
    "y=[[-1,0,1],[-2,0,2],[-1,0,1]]\n",
    "scipy.ndimage.convolve(x,y,mode='constant')"
   ]
  },
  {
   "cell_type": "markdown",
   "metadata": {},
   "source": [
    "# Task 4"
   ]
  },
  {
   "cell_type": "markdown",
   "metadata": {},
   "source": [
    "## Task 4a)\n",
    "\n",
    "FILL IN ANSWER. "
   ]
  }
 ],
 "metadata": {
  "kernelspec": {
   "display_name": "tdt4265",
   "language": "python",
   "name": "python3"
  },
  "language_info": {
   "codemirror_mode": {
    "name": "ipython",
    "version": 3
   },
   "file_extension": ".py",
   "mimetype": "text/x-python",
   "name": "python",
   "nbconvert_exporter": "python",
   "pygments_lexer": "ipython3",
   "version": "3.8.16"
  },
  "vscode": {
   "interpreter": {
    "hash": "96c7e04c65622c4ffd8c7690bbb36b2911dbfc383a7309b4494c1bbc68e06baa"
   }
  }
 },
 "nbformat": 4,
 "nbformat_minor": 4
}
