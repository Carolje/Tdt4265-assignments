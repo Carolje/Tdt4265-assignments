{
 "cells": [
  {
   "attachments": {},
   "cell_type": "markdown",
   "metadata": {},
   "source": [
    "# Assignment 4 Report - Group 112"
   ]
  },
  {
   "cell_type": "markdown",
   "metadata": {},
   "source": [
    "This is an outline for your report to ease the amount of work required to create your report. Jupyter notebook supports markdown, and I recommend you to check out this [cheat sheet](https://github.com/adam-p/markdown-here/wiki/Markdown-Cheatsheet). If you are not familiar with markdown.\n",
    "\n",
    "Before delivery, **remember to convert this file to PDF**. You can do it in two ways:\n",
    "1. Print the webpage (ctrl+P or cmd+P)\n",
    "2. Export with latex. This is somewhat more difficult, but you'll get somehwat of a \"prettier\" PDF. Go to File -> Download as -> PDF via LaTeX. You might have to install nbconvert and pandoc through conda; `conda install nbconvert pandoc`."
   ]
  },
  {
   "cell_type": "markdown",
   "metadata": {},
   "source": [
    "# Task 1"
   ]
  },
  {
   "attachments": {},
   "cell_type": "markdown",
   "metadata": {},
   "source": [
    "## task 1a)\n",
    "\n",
    "\"The intersection over the union (IoU) is a measure of how well two areas overlap (the closer to one, the more overlap). It is done by taking the ratio of the area of intersection and the area of the union. That is for two areas A and B the IoU will be\\n\",\n",
    "    \"$$\\n\",\n",
    "    \"\\\\text{IoU} = \\\\frac{A\\\\cap B}{A\\\\cup B}.\\n\",\n",
    "    \"$$\\n\",\n",
    "    \"The bounding box $A$ can be represented by the two coordinate pairs $(x_{A1}, y_{A1})$ and $(x_{A2}, y_{A2})$, and B by $(x_{B1}, y_{B1})$ and $(x_{B2}, y_{B2})$, meaning that the area of A is $(x_{A2} - x_{A2})\\\\cdot (y_{A1} - y_{A2})$ and the area of B is $(x_{B2} - x_{B2})\\\\cdot (y_{B1} - y_{B2})$\\n\",\n",
    "    \"\\n\",\n",
    "    \"then for the figure below, the IoU will be\\n\",\n",
    "    \"\\n\",\n",
    "    \"\\\\begin{align*}\\n\",\n",
    "    \"\\\\text{IoU} &= \\\\frac{A\\\\cap B}{A\\\\cup B} = \\\\frac{A\\\\cap B}{A + B - A\\\\cap B}\\\\\\\\\\n\",\n",
    "    \"&=\\\\frac{(x_{A2} - x_{B1})\\\\cdot (y_{B1} - y_{A2})}{\\n\",\n",
    "    \"    (x_{A2} - x_{A2})\\\\cdot (y_{A1} - y_{A2}) + (x_{B2} - x_{B2})\\\\cdot (y_{B1} - y_{B2}) - (x_{A2} - x_{B1})\\\\cdot (y_{B1} - y_{A1})\\n\",\n",
    "    \"}\\n\",\n",
    "    \"\\\\end{align*}\\n\",\n",
    "    \"\\n\",\n",
    "    \"![](IoUdrawing.jpg)\""
   ]
  },
  {
   "cell_type": "markdown",
   "metadata": {},
   "source": [
    "## task 1b)\n",
    "\n",
    "Fill in image of hand-written notes which are easy to read, or latex equations here\n",
    "\n",
    "## task 1c)\n",
    "\n",
    "Fill in task 1a image of hand-written notes which are easy to read, or latex equations here\n"
   ]
  },
  {
   "cell_type": "markdown",
   "metadata": {},
   "source": [
    "# Task 2\n",
    "\n",
    "### Task 2f)\n"
   ]
  },
  {
   "cell_type": "markdown",
   "metadata": {},
   "source": [
    "# Task 3"
   ]
  },
  {
   "cell_type": "markdown",
   "metadata": {},
   "source": [
    "### Task 3a)\n",
    "Fill in task 1a image of hand-written notes which are easy to read, or latex equations here\n",
    "\n",
    "### Task 3b)\n",
    "Fill in task 1a image of hand-written notes which are easy to read, or latex equations here\n",
    "\n",
    "### Task 3c)\n",
    "Fill in task 1a image of hand-written notes which are easy to read, or latex equations here\n",
    "\n",
    "\n",
    "### Task 3d)\n",
    "Fill in task 1a image of hand-written notes which are easy to read, or latex equations here\n",
    "\n",
    "### Task 3e)\n",
    "Fill in task 1a image of hand-written notes which are easy to read, or latex equations here\n",
    "\n",
    "### Task 3f)\n",
    "Fill in task 1a image of hand-written notes which are easy to read, or latex equations here\n"
   ]
  },
  {
   "cell_type": "markdown",
   "metadata": {},
   "source": [
    "# Task 4"
   ]
  },
  {
   "cell_type": "markdown",
   "metadata": {},
   "source": [
    "## Task 4b)\n",
    "\n",
    "FILL IN ANSWER. \n",
    "\n",
    "## Task 4c)\n",
    "FILL IN ANSWER. \n",
    "\n",
    "\n",
    "## Task 4d)\n",
    "FILL IN ANSWER. \n",
    "\n",
    "\n",
    "## Task 4e)\n",
    "FILL IN ANSWER. \n",
    "\n",
    "\n",
    "## Task 4f)\n",
    "FILL IN ANSWER. "
   ]
  },
  {
   "cell_type": "code",
   "execution_count": 5,
   "metadata": {},
   "outputs": [
    {
     "name": "stdout",
     "output_type": "stream",
     "text": [
      "[[1.   1.   1.   0.5  0.2 ]\n",
      " [0.05 0.1  0.4  0.7  1.  ]]\n",
      "[[0.05 0.1  0.4  0.7  1.  ]\n",
      " [1.   1.   1.   0.5  0.2 ]]\n"
     ]
    }
   ],
   "source": [
    "import matplotlib.pyplot as plt\n",
    "import numpy as np\n",
    "a=[1,1,1,0.5,0.2]\n",
    "b=[0.05,0.1,0.4,0.7,1]\n",
    "c=[a,b]\n",
    "\n",
    "c=np.array(c)\n",
    "print(c)\n",
    "print(np.flipud(c))"
   ]
  }
 ],
 "metadata": {
  "kernelspec": {
   "display_name": "tdt4265",
   "language": "python",
   "name": "python3"
  },
  "language_info": {
   "codemirror_mode": {
    "name": "ipython",
    "version": 3
   },
   "file_extension": ".py",
   "mimetype": "text/x-python",
   "name": "python",
   "nbconvert_exporter": "python",
   "pygments_lexer": "ipython3",
   "version": "3.8.16"
  }
 },
 "nbformat": 4,
 "nbformat_minor": 4
}
